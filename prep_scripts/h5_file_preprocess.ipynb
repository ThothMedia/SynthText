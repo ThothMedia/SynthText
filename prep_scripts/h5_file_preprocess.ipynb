{
 "cells": [
  {
   "cell_type": "code",
   "execution_count": 1,
   "metadata": {},
   "outputs": [],
   "source": [
    "import h5py\n",
    "import os\n",
    "from PIL import Image\n",
    "import numpy as np\n",
    "import pickle as cp"
   ]
  },
  {
   "cell_type": "markdown",
   "metadata": {},
   "source": [
    "# Preparing"
   ]
  },
  {
   "cell_type": "code",
   "execution_count": 2,
   "metadata": {},
   "outputs": [],
   "source": [
    "seg = h5py.File(\"h5_data/seg.h5\", \"r\")\n",
    "depth = h5py.File(\"h5_data/depth.h5\", \"r\")\n",
    "img_dir = 'h5_data/bg_img/'\n",
    "output_file = '8010_dset.h5'"
   ]
  },
  {
   "cell_type": "markdown",
   "metadata": {},
   "source": [
    "skip_list : image files in seg.h5 but not in depth.h5 and bg_img\n",
    "\n",
    "note : van+gogh_19.jpg and hubble_44.jpg is too large pillow cannot open its"
   ]
  },
  {
   "cell_type": "code",
   "execution_count": 16,
   "metadata": {},
   "outputs": [],
   "source": [
    "skip_list = list(set(list(seg['mask'])) - set(list(depth))) + list(set(list(depth)) - set(list(seg['mask'])))\n",
    "skip_list.append('van+gogh_19.jpg')\n",
    "skip_list.append('hubble_44.jpg')\n"
   ]
  },
  {
   "cell_type": "code",
   "execution_count": 17,
   "metadata": {},
   "outputs": [
    {
     "data": {
      "text/plain": [
       "3047"
      ]
     },
     "execution_count": 17,
     "metadata": {},
     "output_type": "execute_result"
    }
   ],
   "source": [
    "len(skip_list)"
   ]
  },
  {
   "cell_type": "markdown",
   "metadata": {},
   "source": [
    "Create output file and create group"
   ]
  },
  {
   "cell_type": "code",
   "execution_count": 20,
   "metadata": {},
   "outputs": [
    {
     "data": {
      "text/plain": [
       "<HDF5 group \"/image\" (0 members)>"
      ]
     },
     "execution_count": 20,
     "metadata": {},
     "output_type": "execute_result"
    }
   ],
   "source": [
    "h5_result = h5py.File(output_file, 'w')\n",
    "h5_result.create_group('seg')\n",
    "h5_result.create_group('depth')\n",
    "h5_result.create_group('image')"
   ]
  },
  {
   "cell_type": "markdown",
   "metadata": {},
   "source": [
    "TODO \n",
    "- read image and append to h5_result['image'][filename]\n",
    "- copy values from seg['mask'][filename] append to h5_result['seg'][filename]\n",
    "- copy attributes (area, label) from seg['mask'][filename] append to h5_result['seg'][filename].attes[attribute name]\n",
    "- copy values from depth[filename] append to h5_result['depth'][filename]"
   ]
  },
  {
   "cell_type": "code",
   "execution_count": 21,
   "metadata": {},
   "outputs": [
    {
     "name": "stdout",
     "output_type": "stream",
     "text": [
      "0 of 8010\n",
      "100 of 8010\n",
      "200 of 8010\n",
      "300 of 8010\n",
      "400 of 8010\n",
      "500 of 8010\n",
      "600 of 8010\n",
      "700 of 8010\n",
      "800 of 8010\n",
      "900 of 8010\n"
     ]
    },
    {
     "name": "stderr",
     "output_type": "stream",
     "text": [
      "/Users/Tamato/.pyenv/versions/3.6.0/lib/python3.6/site-packages/PIL/Image.py:918: UserWarning: Palette images with Transparency   expressed in bytes should be converted to RGBA images\n",
      "  'to RGBA images')\n"
     ]
    },
    {
     "name": "stdout",
     "output_type": "stream",
     "text": [
      "1000 of 8010\n",
      "1100 of 8010\n",
      "1200 of 8010\n",
      "1300 of 8010\n",
      "1400 of 8010\n",
      "1500 of 8010\n",
      "1600 of 8010\n",
      "1700 of 8010\n",
      "1800 of 8010\n",
      "1900 of 8010\n",
      "2000 of 8010\n",
      "2100 of 8010\n",
      "2200 of 8010\n",
      "2300 of 8010\n",
      "2400 of 8010\n",
      "2500 of 8010\n",
      "2600 of 8010\n",
      "2700 of 8010\n",
      "2800 of 8010\n",
      "2900 of 8010\n",
      "3000 of 8010\n",
      "3100 of 8010\n",
      "3200 of 8010\n",
      "3300 of 8010\n",
      "3400 of 8010\n",
      "3500 of 8010\n",
      "3600 of 8010\n",
      "3700 of 8010\n",
      "3800 of 8010\n",
      "3900 of 8010\n",
      "4000 of 8010\n",
      "4100 of 8010\n",
      "4200 of 8010\n",
      "4300 of 8010\n",
      "4400 of 8010\n",
      "4500 of 8010\n",
      "4600 of 8010\n",
      "4700 of 8010\n",
      "4800 of 8010\n",
      "4900 of 8010\n",
      "5000 of 8010\n",
      "5100 of 8010\n",
      "5200 of 8010\n",
      "5300 of 8010\n",
      "5400 of 8010\n",
      "5500 of 8010\n",
      "5600 of 8010\n",
      "5700 of 8010\n",
      "5800 of 8010\n",
      "5900 of 8010\n",
      "6000 of 8010\n",
      "6100 of 8010\n",
      "6200 of 8010\n",
      "6300 of 8010\n",
      "6400 of 8010\n",
      "6500 of 8010\n",
      "6600 of 8010\n",
      "6700 of 8010\n",
      "6800 of 8010\n",
      "6900 of 8010\n",
      "7000 of 8010\n",
      "7100 of 8010\n",
      "7200 of 8010\n"
     ]
    },
    {
     "name": "stderr",
     "output_type": "stream",
     "text": [
      "/Users/Tamato/.pyenv/versions/3.6.0/lib/python3.6/site-packages/PIL/TiffImagePlugin.py:739: UserWarning: Possibly corrupt EXIF data.  Expecting to read 3932160 bytes but only got 0. Skipping tag 50\n",
      "  \" Skipping tag %s\" % (size, len(data), tag))\n",
      "/Users/Tamato/.pyenv/versions/3.6.0/lib/python3.6/site-packages/PIL/TiffImagePlugin.py:739: UserWarning: Possibly corrupt EXIF data.  Expecting to read 6468665344 bytes but only got 0. Skipping tag 0\n",
      "  \" Skipping tag %s\" % (size, len(data), tag))\n",
      "/Users/Tamato/.pyenv/versions/3.6.0/lib/python3.6/site-packages/PIL/TiffImagePlugin.py:739: UserWarning: Possibly corrupt EXIF data.  Expecting to read 12386304 bytes but only got 0. Skipping tag 0\n",
      "  \" Skipping tag %s\" % (size, len(data), tag))\n",
      "/Users/Tamato/.pyenv/versions/3.6.0/lib/python3.6/site-packages/PIL/TiffImagePlugin.py:739: UserWarning: Possibly corrupt EXIF data.  Expecting to read 12058624 bytes but only got 0. Skipping tag 0\n",
      "  \" Skipping tag %s\" % (size, len(data), tag))\n",
      "/Users/Tamato/.pyenv/versions/3.6.0/lib/python3.6/site-packages/PIL/TiffImagePlugin.py:739: UserWarning: Possibly corrupt EXIF data.  Expecting to read 120324496 bytes but only got 0. Skipping tag 4352\n",
      "  \" Skipping tag %s\" % (size, len(data), tag))\n",
      "/Users/Tamato/.pyenv/versions/3.6.0/lib/python3.6/site-packages/PIL/TiffImagePlugin.py:739: UserWarning: Possibly corrupt EXIF data.  Expecting to read 525372 bytes but only got 18498. Skipping tag 217\n",
      "  \" Skipping tag %s\" % (size, len(data), tag))\n",
      "/Users/Tamato/.pyenv/versions/3.6.0/lib/python3.6/site-packages/PIL/TiffImagePlugin.py:739: UserWarning: Possibly corrupt EXIF data.  Expecting to read 4718592 bytes but only got 0. Skipping tag 5\n",
      "  \" Skipping tag %s\" % (size, len(data), tag))\n",
      "/Users/Tamato/.pyenv/versions/3.6.0/lib/python3.6/site-packages/PIL/TiffImagePlugin.py:739: UserWarning: Possibly corrupt EXIF data.  Expecting to read 5242880 bytes but only got 0. Skipping tag 5\n",
      "  \" Skipping tag %s\" % (size, len(data), tag))\n",
      "/Users/Tamato/.pyenv/versions/3.6.0/lib/python3.6/site-packages/PIL/TiffImagePlugin.py:739: UserWarning: Possibly corrupt EXIF data.  Expecting to read 3368026112 bytes but only got 0. Skipping tag 7\n",
      "  \" Skipping tag %s\" % (size, len(data), tag))\n",
      "/Users/Tamato/.pyenv/versions/3.6.0/lib/python3.6/site-packages/PIL/TiffImagePlugin.py:739: UserWarning: Possibly corrupt EXIF data.  Expecting to read 134479872 bytes but only got 0. Skipping tag 7\n",
      "  \" Skipping tag %s\" % (size, len(data), tag))\n",
      "/Users/Tamato/.pyenv/versions/3.6.0/lib/python3.6/site-packages/PIL/TiffImagePlugin.py:739: UserWarning: Possibly corrupt EXIF data.  Expecting to read 8388608 bytes but only got 0. Skipping tag 5\n",
      "  \" Skipping tag %s\" % (size, len(data), tag))\n",
      "/Users/Tamato/.pyenv/versions/3.6.0/lib/python3.6/site-packages/PIL/TiffImagePlugin.py:739: UserWarning: Possibly corrupt EXIF data.  Expecting to read 8912896 bytes but only got 0. Skipping tag 10\n",
      "  \" Skipping tag %s\" % (size, len(data), tag))\n",
      "/Users/Tamato/.pyenv/versions/3.6.0/lib/python3.6/site-packages/PIL/TiffImagePlugin.py:739: UserWarning: Possibly corrupt EXIF data.  Expecting to read 9437184 bytes but only got 0. Skipping tag 5\n",
      "  \" Skipping tag %s\" % (size, len(data), tag))\n",
      "/Users/Tamato/.pyenv/versions/3.6.0/lib/python3.6/site-packages/PIL/TiffImagePlugin.py:739: UserWarning: Possibly corrupt EXIF data.  Expecting to read 9961472 bytes but only got 0. Skipping tag 10\n",
      "  \" Skipping tag %s\" % (size, len(data), tag))\n",
      "/Users/Tamato/.pyenv/versions/3.6.0/lib/python3.6/site-packages/PIL/TiffImagePlugin.py:739: UserWarning: Possibly corrupt EXIF data.  Expecting to read 10485760 bytes but only got 0. Skipping tag 5\n",
      "  \" Skipping tag %s\" % (size, len(data), tag))\n",
      "/Users/Tamato/.pyenv/versions/3.6.0/lib/python3.6/site-packages/PIL/TiffImagePlugin.py:739: UserWarning: Possibly corrupt EXIF data.  Expecting to read 327680 bytes but only got 0. Skipping tag 3\n",
      "  \" Skipping tag %s\" % (size, len(data), tag))\n",
      "/Users/Tamato/.pyenv/versions/3.6.0/lib/python3.6/site-packages/PIL/TiffImagePlugin.py:739: UserWarning: Possibly corrupt EXIF data.  Expecting to read 5242880 bytes but only got 0. Skipping tag 3\n",
      "  \" Skipping tag %s\" % (size, len(data), tag))\n",
      "/Users/Tamato/.pyenv/versions/3.6.0/lib/python3.6/site-packages/PIL/TiffImagePlugin.py:739: UserWarning: Possibly corrupt EXIF data.  Expecting to read 11010048 bytes but only got 0. Skipping tag 5\n",
      "  \" Skipping tag %s\" % (size, len(data), tag))\n",
      "/Users/Tamato/.pyenv/versions/3.6.0/lib/python3.6/site-packages/PIL/TiffImagePlugin.py:739: UserWarning: Possibly corrupt EXIF data.  Expecting to read 3300917248 bytes but only got 0. Skipping tag 7\n",
      "  \" Skipping tag %s\" % (size, len(data), tag))\n",
      "/Users/Tamato/.pyenv/versions/3.6.0/lib/python3.6/site-packages/PIL/TiffImagePlugin.py:739: UserWarning: Possibly corrupt EXIF data.  Expecting to read 65536 bytes but only got 0. Skipping tag 3\n",
      "  \" Skipping tag %s\" % (size, len(data), tag))\n",
      "/Users/Tamato/.pyenv/versions/3.6.0/lib/python3.6/site-packages/PIL/TiffImagePlugin.py:739: UserWarning: Possibly corrupt EXIF data.  Expecting to read 138412032 bytes but only got 0. Skipping tag 3\n",
      "  \" Skipping tag %s\" % (size, len(data), tag))\n",
      "/Users/Tamato/.pyenv/versions/3.6.0/lib/python3.6/site-packages/PIL/TiffImagePlugin.py:739: UserWarning: Possibly corrupt EXIF data.  Expecting to read 184549376 bytes but only got 0. Skipping tag 3\n",
      "  \" Skipping tag %s\" % (size, len(data), tag))\n",
      "/Users/Tamato/.pyenv/versions/3.6.0/lib/python3.6/site-packages/PIL/TiffImagePlugin.py:739: UserWarning: Possibly corrupt EXIF data.  Expecting to read 1204027392 bytes but only got 0. Skipping tag 4\n",
      "  \" Skipping tag %s\" % (size, len(data), tag))\n",
      "/Users/Tamato/.pyenv/versions/3.6.0/lib/python3.6/site-packages/PIL/TiffImagePlugin.py:739: UserWarning: Possibly corrupt EXIF data.  Expecting to read 11534336 bytes but only got 0. Skipping tag 5\n",
      "  \" Skipping tag %s\" % (size, len(data), tag))\n",
      "/Users/Tamato/.pyenv/versions/3.6.0/lib/python3.6/site-packages/PIL/TiffImagePlugin.py:739: UserWarning: Possibly corrupt EXIF data.  Expecting to read 12058624 bytes but only got 0. Skipping tag 5\n",
      "  \" Skipping tag %s\" % (size, len(data), tag))\n",
      "/Users/Tamato/.pyenv/versions/3.6.0/lib/python3.6/site-packages/PIL/TiffImagePlugin.py:739: UserWarning: Possibly corrupt EXIF data.  Expecting to read 131072 bytes but only got 0. Skipping tag 3\n",
      "  \" Skipping tag %s\" % (size, len(data), tag))\n",
      "/Users/Tamato/.pyenv/versions/3.6.0/lib/python3.6/site-packages/PIL/TiffImagePlugin.py:739: UserWarning: Possibly corrupt EXIF data.  Expecting to read 196608 bytes but only got 0. Skipping tag 7\n",
      "  \" Skipping tag %s\" % (size, len(data), tag))\n",
      "/Users/Tamato/.pyenv/versions/3.6.0/lib/python3.6/site-packages/PIL/TiffImagePlugin.py:739: UserWarning: Possibly corrupt EXIF data.  Expecting to read 12582912 bytes but only got 0. Skipping tag 5\n",
      "  \" Skipping tag %s\" % (size, len(data), tag))\n",
      "/Users/Tamato/.pyenv/versions/3.6.0/lib/python3.6/site-packages/PIL/TiffImagePlugin.py:739: UserWarning: Possibly corrupt EXIF data.  Expecting to read 524292 bytes but only got 18500. Skipping tag 0\n",
      "  \" Skipping tag %s\" % (size, len(data), tag))\n",
      "/Users/Tamato/.pyenv/versions/3.6.0/lib/python3.6/site-packages/PIL/TiffImagePlugin.py:739: UserWarning: Possibly corrupt EXIF data.  Expecting to read 9830400 bytes but only got 0. Skipping tag 4\n",
      "  \" Skipping tag %s\" % (size, len(data), tag))\n",
      "/Users/Tamato/.pyenv/versions/3.6.0/lib/python3.6/site-packages/PIL/TiffImagePlugin.py:739: UserWarning: Possibly corrupt EXIF data.  Expecting to read 13107200 bytes but only got 0. Skipping tag 4\n",
      "  \" Skipping tag %s\" % (size, len(data), tag))\n",
      "/Users/Tamato/.pyenv/versions/3.6.0/lib/python3.6/site-packages/PIL/TiffImagePlugin.py:739: UserWarning: Possibly corrupt EXIF data.  Expecting to read 393216 bytes but only got 0. Skipping tag 3\n",
      "  \" Skipping tag %s\" % (size, len(data), tag))\n",
      "/Users/Tamato/.pyenv/versions/3.6.0/lib/python3.6/site-packages/PIL/TiffImagePlugin.py:739: UserWarning: Possibly corrupt EXIF data.  Expecting to read 1160183808 bytes but only got 18504. Skipping tag 4\n",
      "  \" Skipping tag %s\" % (size, len(data), tag))\n",
      "/Users/Tamato/.pyenv/versions/3.6.0/lib/python3.6/site-packages/PIL/TiffImagePlugin.py:756: UserWarning: Corrupt EXIF data.  Expecting to read 12 bytes but only got 2. \n",
      "  warnings.warn(str(msg))\n"
     ]
    },
    {
     "name": "stdout",
     "output_type": "stream",
     "text": [
      "7300 of 8010\n",
      "7400 of 8010\n",
      "7500 of 8010\n",
      "7600 of 8010\n",
      "7700 of 8010\n",
      "7800 of 8010\n",
      "7900 of 8010\n",
      "8000 of 8010\n"
     ]
    }
   ],
   "source": [
    "for num, i in enumerate(depth):\n",
    "    if num%100 ==0 :\n",
    "        print(f'{num} of {len(depth)}')\n",
    "    if i in skip_list:\n",
    "        continue\n",
    "    img = Image.open(img_dir+i).convert('RGB')\n",
    "    h5_result['image'][i] = np.array(img)\n",
    "    h5_result['seg'][i] = seg['mask'][i][:]\n",
    "    h5_result['seg'][i].attrs['area'] = seg['mask'][i].attrs['area']\n",
    "    h5_result['seg'][i].attrs['label'] = seg['mask'][i].attrs['label']\n",
    "    h5_result['depth'][i] = depth[i][:]"
   ]
  }
 ],
 "metadata": {
  "kernelspec": {
   "display_name": "Python 3",
   "language": "python",
   "name": "python3"
  },
  "language_info": {
   "codemirror_mode": {
    "name": "ipython",
    "version": 3
   },
   "file_extension": ".py",
   "mimetype": "text/x-python",
   "name": "python",
   "nbconvert_exporter": "python",
   "pygments_lexer": "ipython3",
   "version": "3.6.0"
  }
 },
 "nbformat": 4,
 "nbformat_minor": 2
}
